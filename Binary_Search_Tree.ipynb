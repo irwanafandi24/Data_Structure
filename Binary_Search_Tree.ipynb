{
  "nbformat": 4,
  "nbformat_minor": 0,
  "metadata": {
    "colab": {
      "name": "Binary_Search_Tree.ipynb",
      "provenance": [],
      "collapsed_sections": []
    },
    "kernelspec": {
      "name": "python3",
      "display_name": "Python 3"
    }
  },
  "cells": [
    {
      "cell_type": "markdown",
      "metadata": {
        "id": "S_xmuh1069RN"
      },
      "source": [
        "#**Binary Search Tree**\r\n",
        "- Tree : there is a single way from A to C (A-B-C). If we can go from A to C with different way (A-Z-C), so it isn't Tree\r\n",
        "- BST : every node can have at most 2 children: left and right. Left child smaller than parent and right child greater than parent. \r\n",
        "- Hight of tree : the number of layer it has\r\n",
        "\r\n",
        "Case:<br>\r\n",
        "- BST Insertion: the left child must be smaller than root, and right child must be greater then the root\r\n",
        "- BST searching: start find from the root, is the value less than or more than the root. Choose left is less than and right is more than\r\n",
        "- BST delete : is the node is a leaf (auto drop), is the root has only one child (replace the root by its child), is the root has 2 childs (you can use predencessor - left then most right, or successor - the first right node)\r\n",
        "- Traversal : In-order tranversal (1,2,3,4,dsr), Pre-order traversal (root - left - right), post-order traversal (left - right - root)\r\n",
        "\r\n",
        "Reference:\r\n",
        "-  https://www.youtube.com/watch?v=3JDZK1061GI&list=PL1SWSsc5Gso_Cw5Pj2_IAAGuyio0O1x3o&index=23&ab_channel=DForDeveloper"
      ]
    },
    {
      "cell_type": "code",
      "metadata": {
        "id": "-YQBmxvF63XY"
      },
      "source": [
        "class Node(object):\r\n",
        "  def __init__(self, data):\r\n",
        "    self.data = data\r\n",
        "    self.leftChild = None\r\n",
        "    self.rightChild = None"
      ],
      "execution_count": 1,
      "outputs": []
    },
    {
      "cell_type": "code",
      "metadata": {
        "id": "-Gq0nJt9CRBH"
      },
      "source": [
        "class BinarySearchTree(object):\r\n",
        "  def __init__(self):\r\n",
        "    self.root = None\r\n",
        "  \r\n",
        "  def insert(self, data):\r\n",
        "    #empty tree\r\n",
        "    if not self.root:\r\n",
        "      self.root = Node(data)\r\n",
        "    else:\r\n",
        "      self.insertNode(data, self.root)\r\n",
        "  \r\n",
        "  #if the root data is not \r\n",
        "  #O(log N) if the tree is balance, if it isn't balance, it can reduce to O(N)--> AVL and RBT are needed!\r\n",
        "  def insertNode(self, data, node):\r\n",
        "    #left\r\n",
        "    if data<node.data:\r\n",
        "      if node.leftChild: #if child node isn't null\r\n",
        "        self.insertNode(data, node.leftChild)\r\n",
        "      else:\r\n",
        "        node.leftChild = Node(data)\r\n",
        "    else:\r\n",
        "      if node.rightChild:\r\n",
        "        self.insertNode(data, node.rightChild)\r\n",
        "      else:\r\n",
        "        node.rightChild = Node(data)\r\n",
        "\r\n",
        "  def remove(self, data):\r\n",
        "    if self.root:\r\n",
        "      self.root = self.removeNode(data, self.root)\r\n",
        "    else:\r\n",
        "      return \"Empty Tree\"\r\n",
        "  \r\n",
        "  #O(log N)    \r\n",
        "  def removeNode(self, data, node):\r\n",
        "    if not node:\r\n",
        "      return node #subtitute the node that want to delete \r\n",
        "    \r\n",
        "    #we will find where is the location of the data that we want to remove\r\n",
        "    if data < node.data: #left side\r\n",
        "      node.leftChild = self.removeNode(data, node.leftChild)\r\n",
        "    elif data > node.data: #right side\r\n",
        "      node.rightChild = self.removeNode(data, node.rightChild)\r\n",
        "    else: # we get the data that want to delete\r\n",
        "      \r\n",
        "      if not node.leftChild and not node.rightChild: #doesn't have child (leaf)\r\n",
        "        print(\"Delete leaf data\")\r\n",
        "        del node\r\n",
        "        return None\r\n",
        "\r\n",
        "      if not node.leftChild : #just have right child\r\n",
        "        print(\"removing the node with single right child\")\r\n",
        "        tempRight = node.rightChild\r\n",
        "        del node\r\n",
        "        return tempRight\r\n",
        "      elif not node.rightChild: #just have left child\r\n",
        "        print(\"removing the node with single left child\")\r\n",
        "        tempLeft = node.leftChild\r\n",
        "        del node\r\n",
        "        return tempLeft\r\n",
        "      \r\n",
        "      #the node has 2 child (left and right)\r\n",
        "      print(\"removing the child with two children\")\r\n",
        "      #find the predencessor (one left (node left child) --> the most right)\r\n",
        "      tempNode = self.getPredencessor(node.leftChild)\r\n",
        "      node.data = tempNode.data\r\n",
        "      node.leftChild = self.removeNode(tempNode.data, node.leftChild) #we need to delete the selected node that we use to change the root\r\n",
        "    \r\n",
        "    return node\r\n",
        "  \r\n",
        "  def getPredencessor(self, node):\r\n",
        "    if node.rightChild: #if there is right child, we will find until the data doesn't have right child\r\n",
        "      return getPredencessor(node.rightChild)\r\n",
        "    return node\r\n",
        "       \r\n",
        "  #O(log N) #travercing at tree, get the min value and max value\r\n",
        "  def getMinValue(self):\r\n",
        "    if self.root:\r\n",
        "      return self.getMin(self.root)\r\n",
        "    else:\r\n",
        "      return \"Empty Tree\"\r\n",
        "\r\n",
        "  def getMin(self, node):\r\n",
        "    if node.leftChild: #left child not null\r\n",
        "      return self.getMin(node.leftChild)\r\n",
        "    #there isn't any left child node\r\n",
        "    return node.data\r\n",
        "  \r\n",
        "  #O(log N)\r\n",
        "  def getMaxValue(self):\r\n",
        "    if self.root:\r\n",
        "      return self.getMax(self.root)\r\n",
        "    else:\r\n",
        "      return \"Empty Tree\"\r\n",
        "  \r\n",
        "  def getMax(self, node):\r\n",
        "    if node.rightChild:\r\n",
        "      return self.getMax(node.rightChild)\r\n",
        "    return node.data\r\n",
        "  \r\n",
        "  def tranverse(self):\r\n",
        "    if self.root:\r\n",
        "      self.tranverseInOrder(self.root)\r\n",
        "    else:\r\n",
        "      return \"Empty Tree\"\r\n",
        "\r\n",
        "  #O(N)\r\n",
        "  def tranverseInOrder(self, node):\r\n",
        "    if node.leftChild:\r\n",
        "      self.tranverseInOrder(node.leftChild)\r\n",
        "    \r\n",
        "    print('%s ' %node.data)\r\n",
        "\r\n",
        "    if node.rightChild:\r\n",
        "      self.tranverseInOrder(node.rightChild)"
      ],
      "execution_count": 17,
      "outputs": []
    },
    {
      "cell_type": "code",
      "metadata": {
        "colab": {
          "base_uri": "https://localhost:8080/"
        },
        "id": "e2yDAJq1EvEE",
        "outputId": "ac62c16c-2710-4eef-e401-c6586b909d54"
      },
      "source": [
        "bst = BinarySearchTree()\r\n",
        "bst.insert(20)\r\n",
        "bst.insert(10)\r\n",
        "bst.insert(30)\r\n",
        "bst.insert(5)\r\n",
        "bst.insert(15)\r\n",
        "bst.insert(35)\r\n",
        "bst.insert(1)\r\n",
        "bst.getMinValue()\r\n",
        "bst.getMaxValue()\r\n",
        "bst.tranverse()\r\n",
        "print(\"==== removing ====\")\r\n",
        "bst.remove(1)\r\n",
        "bst.remove(30)\r\n",
        "bst.remove(10)\r\n",
        "\r\n",
        "bst.tranverse()"
      ],
      "execution_count": 23,
      "outputs": [
        {
          "output_type": "stream",
          "text": [
            "1 \n",
            "5 \n",
            "10 \n",
            "15 \n",
            "20 \n",
            "30 \n",
            "35 \n",
            "==== removing ====\n",
            "Delete leaf data\n",
            "removing the node with single right child\n",
            "removing the child with two children\n",
            "Delete leaf data\n",
            "5 \n",
            "15 \n",
            "20 \n",
            "35 \n"
          ],
          "name": "stdout"
        }
      ]
    },
    {
      "cell_type": "code",
      "metadata": {
        "id": "DhPuLpPeKzYY"
      },
      "source": [
        ""
      ],
      "execution_count": null,
      "outputs": []
    }
  ]
}