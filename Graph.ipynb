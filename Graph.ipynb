{
  "nbformat": 4,
  "nbformat_minor": 0,
  "metadata": {
    "colab": {
      "name": "Graph.ipynb",
      "provenance": []
    },
    "kernelspec": {
      "name": "python3",
      "display_name": "Python 3"
    }
  },
  "cells": [
    {
      "cell_type": "markdown",
      "metadata": {
        "id": "FJ5Knw5VAtDd"
      },
      "source": [
        "#**Graph**\r\n",
        "- Directed (with arrow) and undirected (without arrow)\r\n",
        "- Representation using adjacency matrixes (sing matrix and map ever node to the vertices) or edge list representation (using class vertex)\r\n",
        "- Breadth First Search (BFS) and Depth First Search (DFS)\r\n",
        " "
      ]
    },
    {
      "cell_type": "markdown",
      "metadata": {
        "id": "nwGX8atCJURw"
      },
      "source": [
        "###**BFS**\r\n",
        "- Using Queue\r\n",
        "- root, visit alll children 1, 2, 3 then visit all children in 1, move to all children in 2 and all children in 3 (every layer)"
      ]
    },
    {
      "cell_type": "code",
      "metadata": {
        "id": "1IZhOm4eAUQ7"
      },
      "source": [
        "class Node(object):\r\n",
        "  def __init__(self, name):\r\n",
        "    self.name = name\r\n",
        "    self.adjacencyList = []\r\n",
        "    self.visited = False\r\n",
        "    self.predecessor = None #we can use this variable to get the shortest path"
      ],
      "execution_count": null,
      "outputs": []
    },
    {
      "cell_type": "code",
      "metadata": {
        "id": "dTfLIWePJ5pf"
      },
      "source": [
        "class BreadthFirstSearch(object):\r\n",
        "  \r\n",
        "  def bfs(self, startNode):\r\n",
        "    queue = []\r\n",
        "    queue.append(startNode)\r\n",
        "    startNode.visited = True\r\n",
        "\r\n",
        "    while queue: #as long as the queue not empty\r\n",
        "      actualNode = queue.pop(0)\r\n",
        "      print(actualNode.name, \" \")\r\n",
        "\r\n",
        "      #visit all the child\r\n",
        "      for child in actualNode.adjacencyList:\r\n",
        "        if not child.visited: #check if the status of child visited true or false (we take false) \r\n",
        "          child.visited = True\r\n",
        "          queue.append(child) #append all the child in the last queue"
      ],
      "execution_count": null,
      "outputs": []
    },
    {
      "cell_type": "code",
      "metadata": {
        "colab": {
          "base_uri": "https://localhost:8080/"
        },
        "id": "dd7nZKlxMfwQ",
        "outputId": "faaf52cc-f27c-4237-90bc-4c98e4ab71de"
      },
      "source": [
        "NodeA = Node(\"A\")\r\n",
        "NodeB = Node(\"B\")\r\n",
        "NodeC = Node(\"C\")\r\n",
        "NodeD = Node(\"D\")\r\n",
        "NodeE = Node(\"E\")\r\n",
        "\r\n",
        "NodeA.adjacencyList.append(NodeB)\r\n",
        "NodeA.adjacencyList.append(NodeC)\r\n",
        "NodeA.adjacencyList.append(NodeD)\r\n",
        "\r\n",
        "NodeB.adjacencyList.append(NodeA)\r\n",
        "NodeB.adjacencyList.append(NodeD)\r\n",
        "NodeB.adjacencyList.append(NodeE)\r\n",
        "\r\n",
        "NodeC.adjacencyList.append(NodeA)\r\n",
        "NodeC.adjacencyList.append(NodeD)\r\n",
        "\r\n",
        "NodeD.adjacencyList.append(NodeC)\r\n",
        "NodeD.adjacencyList.append(NodeB)\r\n",
        "NodeD.adjacencyList.append(NodeA)\r\n",
        "\r\n",
        "NodeE.adjacencyList.append(NodeB)\r\n",
        "\r\n",
        "bfs = BreadthFirstSearch()\r\n",
        "bfs.bfs(NodeE)"
      ],
      "execution_count": null,
      "outputs": [
        {
          "output_type": "stream",
          "text": [
            "E  \n",
            "B  \n",
            "A  \n",
            "D  \n",
            "C  \n"
          ],
          "name": "stdout"
        }
      ]
    },
    {
      "cell_type": "markdown",
      "metadata": {
        "id": "jVOgMAp-s5O2"
      },
      "source": [
        "###**DFS**\r\n",
        "- Using Stack\r\n",
        "- root, go to the most left child, then root and right child. But we also can doing in the opposite direction."
      ]
    },
    {
      "cell_type": "code",
      "metadata": {
        "id": "_MBs45HztGx4"
      },
      "source": [
        "class DepthFirstSearch(object):\r\n",
        "\r\n",
        "  def dfs(self, startNode):\r\n",
        "    startNode.visited = True\r\n",
        "    print(\"%s \" %startNode.name)\r\n",
        "\r\n",
        "    for child in startNode.adjacencyList:\r\n",
        "      if not child.visited:\r\n",
        "        self.dfs(child)"
      ],
      "execution_count": null,
      "outputs": []
    },
    {
      "cell_type": "code",
      "metadata": {
        "colab": {
          "base_uri": "https://localhost:8080/"
        },
        "id": "pZDYMeew4KX2",
        "outputId": "339d3d31-bd9f-4083-c89e-962f05d9ecf5"
      },
      "source": [
        "NodeA = Node(\"A\")\r\n",
        "NodeB = Node(\"B\")\r\n",
        "NodeC = Node(\"C\")\r\n",
        "NodeD = Node(\"D\")\r\n",
        "NodeE = Node(\"E\")\r\n",
        "\r\n",
        "NodeA.adjacencyList.append(NodeB)\r\n",
        "NodeA.adjacencyList.append(NodeC)\r\n",
        "NodeA.adjacencyList.append(NodeD)\r\n",
        "\r\n",
        "NodeB.adjacencyList.append(NodeA)\r\n",
        "NodeB.adjacencyList.append(NodeD)\r\n",
        "NodeB.adjacencyList.append(NodeE)\r\n",
        "\r\n",
        "NodeC.adjacencyList.append(NodeA)\r\n",
        "NodeC.adjacencyList.append(NodeD)\r\n",
        "\r\n",
        "NodeD.adjacencyList.append(NodeC)\r\n",
        "NodeD.adjacencyList.append(NodeB)\r\n",
        "NodeD.adjacencyList.append(NodeA)\r\n",
        "\r\n",
        "NodeE.adjacencyList.append(NodeB)\r\n",
        "\r\n",
        "dfs = DepthFirstSearch()\r\n",
        "dfs.dfs(NodeE)"
      ],
      "execution_count": null,
      "outputs": [
        {
          "output_type": "stream",
          "text": [
            "E \n",
            "B \n",
            "A \n",
            "C \n",
            "D \n"
          ],
          "name": "stdout"
        }
      ]
    }
  ]
}