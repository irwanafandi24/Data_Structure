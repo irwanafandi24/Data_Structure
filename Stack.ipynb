{
  "nbformat": 4,
  "nbformat_minor": 0,
  "metadata": {
    "colab": {
      "name": "Stack.ipynb",
      "provenance": [],
      "collapsed_sections": []
    },
    "kernelspec": {
      "name": "python3",
      "display_name": "Python 3"
    }
  },
  "cells": [
    {
      "cell_type": "markdown",
      "metadata": {
        "id": "D7Qs0aM8_5Vj"
      },
      "source": [
        "#**Stack**\r\n",
        "- Last in first out\r\n",
        "- Operation push (input a data into stack), pop (take the data from stack - remove the data) and peek (get the last value from stack without removing it)\r\n",
        "\r\n",
        "Reference:\r\n",
        "- https://www.youtube.com/watch?v=16tIs_HwnDo&list=PL1SWSsc5Gso_Cw5Pj2_IAAGuyio0O1x3o&index=17&ab_channel=DForDeveloper"
      ]
    },
    {
      "cell_type": "markdown",
      "metadata": {
        "id": "I0H_c9RWdai3"
      },
      "source": [
        "###**Intro**"
      ]
    },
    {
      "cell_type": "code",
      "metadata": {
        "colab": {
          "base_uri": "https://localhost:8080/"
        },
        "id": "8XHLJVnyGPvk",
        "outputId": "812c8149-95f1-43be-b824-e4e5ab9d7de6"
      },
      "source": [
        "#intro recursion\r\n",
        "def factorial(n):\r\n",
        "  if n == 0:\r\n",
        "    return 1\r\n",
        "  return n * factorial(n-1)\r\n",
        "\r\n",
        "factorial(10)"
      ],
      "execution_count": 6,
      "outputs": [
        {
          "output_type": "execute_result",
          "data": {
            "text/plain": [
              "3628800"
            ]
          },
          "metadata": {
            "tags": []
          },
          "execution_count": 6
        }
      ]
    },
    {
      "cell_type": "code",
      "metadata": {
        "colab": {
          "base_uri": "https://localhost:8080/"
        },
        "id": "rvqxYHbFGflH",
        "outputId": "defc79c1-b945-4e01-d8e2-ff607851374c"
      },
      "source": [
        "arr_a = [1,2,3,4]\r\n",
        "print(arr_a)\r\n",
        "print(arr_a[-1])\r\n",
        "\r\n",
        "del arr_a[-1]\r\n",
        "print(arr_a)\r\n",
        "\r\n",
        "arr_a.append(5)\r\n",
        "print(arr_a)"
      ],
      "execution_count": 11,
      "outputs": [
        {
          "output_type": "stream",
          "text": [
            "[1, 2, 3, 4]\n",
            "4\n",
            "[1, 2, 3]\n",
            "[1, 2, 3, 5]\n"
          ],
          "name": "stdout"
        }
      ]
    },
    {
      "cell_type": "markdown",
      "metadata": {
        "id": "Ea5S1VZSdeAF"
      },
      "source": [
        "###**Stack Implementation**"
      ]
    },
    {
      "cell_type": "code",
      "metadata": {
        "id": "9rI55SE8FDxd"
      },
      "source": [
        "class Stack:\r\n",
        "\r\n",
        "  def __init__(self):\r\n",
        "    self.stack = []\r\n",
        "  \r\n",
        "  def isEmpty(self):\r\n",
        "    return self.stack == []\r\n",
        "  \r\n",
        "  def push(self, data):\r\n",
        "    self.stack.append(data)\r\n",
        "  \r\n",
        "  def pop(self):\r\n",
        "    if self.isEmpty():\r\n",
        "      return \"Empty Stack\"\r\n",
        "\r\n",
        "    data = self.stack[-1]\r\n",
        "    del self.stack[-1]\r\n",
        "    return data\r\n",
        "  \r\n",
        "  def peak(self):\r\n",
        "    return self.stack[-1]\r\n",
        "  \r\n",
        "  def size_stack(self):\r\n",
        "    return len(self.stack)\r\n",
        "  \r\n",
        "  def print_stack(self):\r\n",
        "    str_stack = \"\"\r\n",
        "    for i in self.stack:\r\n",
        "      str_stack +=\" \"+ str(i) + \" -->\"\r\n",
        "    print(str_stack)"
      ],
      "execution_count": 51,
      "outputs": []
    },
    {
      "cell_type": "code",
      "metadata": {
        "colab": {
          "base_uri": "https://localhost:8080/"
        },
        "id": "-BQnn4XA7hJK",
        "outputId": "09bbaf11-915b-420b-beb3-d45e095f2845"
      },
      "source": [
        "stack = Stack()\r\n",
        "stack.push(1)\r\n",
        "stack.push(2)\r\n",
        "stack.push(3)\r\n",
        "stack.push(4)\r\n",
        "\r\n",
        "print(\"Peak : \", stack.peak())\r\n",
        "\r\n",
        "print(\"Empty : \", stack.isEmpty())\r\n",
        "\r\n",
        "del1 = stack.pop()\r\n",
        "print(\"Hasil pop :\", del1)\r\n",
        "del1 = stack.pop()\r\n",
        "print(\"Hasil pop :\", del1)\r\n",
        "stack.print_stack()\r\n",
        "\r\n",
        "print(\"Len Stack : \", stack.size_stuck())"
      ],
      "execution_count": 37,
      "outputs": [
        {
          "output_type": "stream",
          "text": [
            "Peak :  4\n",
            "Empty :  False\n",
            "Hasil pop : 4\n",
            "Hasil pop : 3\n",
            " 1 --> 2 -->\n",
            "Len Stack :  2\n"
          ],
          "name": "stdout"
        }
      ]
    },
    {
      "cell_type": "markdown",
      "metadata": {
        "id": "1GULltFqdiHN"
      },
      "source": [
        "###**Just for Fun**"
      ]
    },
    {
      "cell_type": "markdown",
      "metadata": {
        "id": "YLCTB_TgNlrF"
      },
      "source": [
        "Case:\r\n",
        "The number of open bracket and close bracket must be the same.\r\n",
        "- (())() : True\r\n",
        "- ((())(()) : False\r\n",
        "- ((()))()(()) : True\r\n",
        "- (()(())((())) : False\r\n",
        "- ))(())(( : False\r\n",
        "- (())) :False"
      ]
    },
    {
      "cell_type": "code",
      "metadata": {
        "colab": {
          "base_uri": "https://localhost:8080/"
        },
        "id": "lIFJvuGyDf2M",
        "outputId": "0e38128c-dd49-43b4-fdc6-7a66281f5fb0"
      },
      "source": [
        "arr_str = [\"(())()\", \"((())(())\", \"((()))()(())\",\"(()(())((()))\",\"))(())((\",\"(())))\"]\r\n",
        "for case in arr_str:\r\n",
        "  stack_bracket = Stack()\r\n",
        "  flaq, answer = 0, True\r\n",
        "  for val in case[::-1]:\r\n",
        "    if val == \")\":\r\n",
        "      if flaq == 0:\r\n",
        "        stack_bracket.push(val)\r\n",
        "      elif flaq != 0:\r\n",
        "        answer = False\r\n",
        "        break\r\n",
        "    if val ==\"(\":\r\n",
        "      if stack_bracket.size_stack() == 0:\r\n",
        "        answer = False\r\n",
        "        break\r\n",
        "      else:\r\n",
        "        stack_bracket.pop()\r\n",
        "        flaq=1\r\n",
        "    if stack_bracket.size_stack() == 0:\r\n",
        "      flaq = 0\r\n",
        "\r\n",
        "  if stack_bracket.size_stack() != 0:\r\n",
        "    answer = False\r\n",
        "  print(case ,\" : \", answer)    "
      ],
      "execution_count": 70,
      "outputs": [
        {
          "output_type": "stream",
          "text": [
            "(())()  :  True\n",
            "((())(())  :  False\n",
            "((()))()(())  :  True\n",
            "(()(())((()))  :  False\n",
            "))(())((  :  False\n",
            "(())))  :  False\n",
            "(()))  :  False\n"
          ],
          "name": "stdout"
        }
      ]
    },
    {
      "cell_type": "code",
      "metadata": {
        "id": "4WSAcMioeChs"
      },
      "source": [
        ""
      ],
      "execution_count": null,
      "outputs": []
    }
  ]
}