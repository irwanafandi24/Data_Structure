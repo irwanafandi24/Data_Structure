{
  "nbformat": 4,
  "nbformat_minor": 0,
  "metadata": {
    "colab": {
      "name": "Test Case Collection - 1.ipynb",
      "provenance": []
    },
    "kernelspec": {
      "name": "python3",
      "display_name": "Python 3"
    }
  },
  "cells": [
    {
      "cell_type": "markdown",
      "metadata": {
        "id": "gsu0KE-mIzIg"
      },
      "source": [
        "#**Test 1 - Blue Round Cypress**\r\n",
        "You can see find this questions in <b><i>\"img_test\"</i></b> folder<br>\r\n",
        "<b>Note:</b> <i>this is not the best answer, you can optimize the code and decrease the time complexity.</i>"
      ]
    },
    {
      "cell_type": "markdown",
      "metadata": {
        "id": "Bud2TZVxPVFF"
      },
      "source": [
        "**Case 1**"
      ]
    },
    {
      "cell_type": "code",
      "metadata": {
        "id": "YI99AG3yPUxZ"
      },
      "source": [
        "def gembok(A, B, moves):\r\n",
        "    # Write your solution here\r\n",
        "    a1,a2,a3,a4 = int(A[0]), int(A[1]), int(A[2]), int(A[3])\r\n",
        "    b1,b2,b3,b4 = int(B[0]), int(B[1]), int(B[2]), int(B[3])\r\n",
        "    \r\n",
        "    tmp = 0\r\n",
        "    for move in moves:\r\n",
        "        for val in move:\r\n",
        "            if tmp == 0:\r\n",
        "                if val == '>':\r\n",
        "                    a1 += 1\r\n",
        "                else:\r\n",
        "                    a1 -= 1\r\n",
        "            elif tmp == 1:\r\n",
        "                if val == '>':\r\n",
        "                    a2 += 1\r\n",
        "                else:\r\n",
        "                    a2 -= 1\r\n",
        "            elif tmp == 2:\r\n",
        "                if val == '>':\r\n",
        "                    a3 += 1\r\n",
        "                else:\r\n",
        "                    a3 -= 1\r\n",
        "            elif tmp == 3:\r\n",
        "                if val == '>':\r\n",
        "                    a4 += 1\r\n",
        "                else:\r\n",
        "                    a4 -= 1\r\n",
        "        tmp += 1\r\n",
        "    \r\n",
        "    x1 = a1+a2+a3+a4\r\n",
        "    x2 = b1+b2+b3+b4\r\n",
        "    \r\n",
        "    if x1 == x2:\r\n",
        "        return \"TERBUKA\"\r\n",
        "    \r\n",
        "    return \"TERKUNCI\""
      ],
      "execution_count": 5,
      "outputs": []
    },
    {
      "cell_type": "code",
      "metadata": {
        "colab": {
          "base_uri": "https://localhost:8080/",
          "height": 36
        },
        "id": "pLX2oudVPvnE",
        "outputId": "1716c722-4171-4cad-e551-676b8cb7b60d"
      },
      "source": [
        "#moves can be [['>>><<<>'], soon]\r\n",
        "gembok('2468', '1543', [['>'],['<'],['>'],['<']])"
      ],
      "execution_count": 6,
      "outputs": [
        {
          "output_type": "execute_result",
          "data": {
            "application/vnd.google.colaboratory.intrinsic+json": {
              "type": "string"
            },
            "text/plain": [
              "'TERKUNCI'"
            ]
          },
          "metadata": {
            "tags": []
          },
          "execution_count": 6
        }
      ]
    },
    {
      "cell_type": "markdown",
      "metadata": {
        "id": "tCM1A0JhPQ0R"
      },
      "source": [
        "**Case 2**"
      ]
    },
    {
      "cell_type": "code",
      "metadata": {
        "id": "LZ2zyNBtIvfG"
      },
      "source": [
        "def not_budys_friends(N, M, relations):\r\n",
        "  \"\"\"\r\n",
        "  N : the number of all people\r\n",
        "  M : number of relations\r\n",
        "  relations : relationship between 2 people\r\n",
        "  \"\"\"\r\n",
        "  tmp, relasi = [0],[]\r\n",
        "\r\n",
        "  while tmp: \r\n",
        "    person = tmp.pop(0)\r\n",
        "    \r\n",
        "    idx_pop = [] \r\n",
        "    for idx, group in enumerate(relations):\r\n",
        "      \r\n",
        "      if person in group:\r\n",
        "        idx_pop.append(idx)\r\n",
        "\r\n",
        "    for i in idx_pop:\r\n",
        "      get_relasi = relations[i]\r\n",
        "      if get_relasi[0] != person:\r\n",
        "        tmp.append(get_relasi[0])\r\n",
        "      else:\r\n",
        "        tmp.append(get_relasi[1])\r\n",
        "    \r\n",
        "    idx_pop_tmp = 0\r\n",
        "    for i in idx_pop:\r\n",
        "      del relations[i-idx_pop_tmp]\r\n",
        "      idx_pop_tmp += 1\r\n",
        "\r\n",
        "    relasi.append(person)\r\n",
        "  return N - len(relasi)"
      ],
      "execution_count": 2,
      "outputs": []
    },
    {
      "cell_type": "code",
      "metadata": {
        "colab": {
          "base_uri": "https://localhost:8080/"
        },
        "id": "cumBg2t2ODzs",
        "outputId": "ce97cfc7-a4d4-463d-82d9-2fd3f3122515"
      },
      "source": [
        "relations = [[0, 3], [5, 0], [3, 2], [2,6]]\r\n",
        "not_budys_friends(7,4,relations)"
      ],
      "execution_count": 4,
      "outputs": [
        {
          "output_type": "execute_result",
          "data": {
            "text/plain": [
              "2"
            ]
          },
          "metadata": {
            "tags": []
          },
          "execution_count": 4
        }
      ]
    },
    {
      "cell_type": "markdown",
      "metadata": {
        "id": "3s3rd2fZPYeb"
      },
      "source": [
        "**Case 3**"
      ]
    },
    {
      "cell_type": "code",
      "metadata": {
        "id": "E9LvlC1DPZDm"
      },
      "source": [
        "def findMinimumTotalShop(N, M, T, S):\r\n",
        "    # Write your code here\r\n",
        "    total_shop = 0 \r\n",
        "    while T:\r\n",
        "        print(T)\r\n",
        "        total = [] #total item each shop\r\n",
        "        for i in range(M): #toko ke \r\n",
        "            count = 0\r\n",
        "            for item in T:\r\n",
        "              nama = ''.join(S[i])\r\n",
        "              if item in nama:\r\n",
        "                  count += 1\r\n",
        "            print(count)\r\n",
        "            total.append(count)  \r\n",
        "\r\n",
        "        print(total)\r\n",
        "        \r\n",
        "        #whose the most\r\n",
        "        idx, sum_i = 0,0\r\n",
        "        for idx_items, t_items in enumerate(total):\r\n",
        "            if sum_i < t_items:\r\n",
        "                idx = idx_items\r\n",
        "                sum_i = t_items\r\n",
        "\r\n",
        "        for element in S[idx]:\r\n",
        "          for chr in element:\r\n",
        "            T = T.replace(chr,'')\r\n",
        "\r\n",
        "        total_shop+=1\r\n",
        "    return total_shop"
      ],
      "execution_count": 7,
      "outputs": []
    },
    {
      "cell_type": "code",
      "metadata": {
        "colab": {
          "base_uri": "https://localhost:8080/"
        },
        "id": "wj_RFSDqQdyD",
        "outputId": "436578df-c04d-4dd8-f2c6-51ac58968438"
      },
      "source": [
        "'''\r\n",
        "error in some test case, \r\n",
        "[['ACD'],['ACB'],['BE'],['E']] if it changes to [['ACB'],['ACD'],['BE'],['E']], it will return 3\r\n",
        "'''\r\n",
        "findMinimumTotalShop(5, 4, 'ABCDE', [['ACD'],['ACB'],['BE'],['E']])"
      ],
      "execution_count": 10,
      "outputs": [
        {
          "output_type": "stream",
          "text": [
            "ABCDE\n",
            "3\n",
            "3\n",
            "2\n",
            "1\n",
            "[3, 3, 2, 1]\n",
            "BE\n",
            "0\n",
            "1\n",
            "2\n",
            "1\n",
            "[0, 1, 2, 1]\n"
          ],
          "name": "stdout"
        },
        {
          "output_type": "execute_result",
          "data": {
            "text/plain": [
              "2"
            ]
          },
          "metadata": {
            "tags": []
          },
          "execution_count": 10
        }
      ]
    },
    {
      "cell_type": "markdown",
      "metadata": {
        "id": "sdzt4zOIQ_l8"
      },
      "source": [
        "**Case 4**"
      ]
    },
    {
      "cell_type": "code",
      "metadata": {
        "id": "EtamxwYmRCIA"
      },
      "source": [
        "# time flies so fast "
      ],
      "execution_count": null,
      "outputs": []
    },
    {
      "cell_type": "markdown",
      "metadata": {
        "id": "t3vgeYhyKKrw"
      },
      "source": [
        "#**Test 2 - QB Hexagon**"
      ]
    },
    {
      "cell_type": "markdown",
      "metadata": {
        "id": "gIWjGgWJUVtn"
      },
      "source": [
        "**Case 1**"
      ]
    },
    {
      "cell_type": "code",
      "metadata": {
        "id": "dLFILexKKOId"
      },
      "source": [
        "def minStart(arr):\r\n",
        "    # Write your code here\r\n",
        "    #check if len of array less then equal 1\r\n",
        "    if len(arr) <= 1:\r\n",
        "        if len(arr)==0:\r\n",
        "            return 1\r\n",
        "        if arr[0] >= 0 :\r\n",
        "            return 1\r\n",
        "        else:\r\n",
        "            return arr[0]*-1+1\r\n",
        "    else:\r\n",
        "        a = 0    #starting point\r\n",
        "        tmp = [] #temporary array save the additional value\r\n",
        "        for i in arr:\r\n",
        "            a= a+ i\r\n",
        "            tmp.append(a)\r\n",
        "\r\n",
        "        tmp.sort() #sort from the minimum value\r\n",
        "        \r\n",
        "        if tmp[0]>=0: #it minimum value more then equal 0, return 1\r\n",
        "            return 1\r\n",
        "        \r\n",
        "        \"\"\"\r\n",
        "        take the minimimum value * -1 to make it positive (negation)\r\n",
        "        note we start from 0, so we need to add +1 to make \r\n",
        "        all the additional value more than 0\r\n",
        "        \"\"\"\r\n",
        "        return tmp[0]*-1+1"
      ],
      "execution_count": 11,
      "outputs": []
    },
    {
      "cell_type": "code",
      "metadata": {
        "colab": {
          "base_uri": "https://localhost:8080/"
        },
        "id": "8r0FZ81oeWep",
        "outputId": "d5256b79-3c44-46bb-8939-930b5f7f68bf"
      },
      "source": [
        "minStart([-4,3,2,1])"
      ],
      "execution_count": 12,
      "outputs": [
        {
          "output_type": "execute_result",
          "data": {
            "text/plain": [
              "5"
            ]
          },
          "metadata": {
            "tags": []
          },
          "execution_count": 12
        }
      ]
    },
    {
      "cell_type": "markdown",
      "metadata": {
        "id": "3OFBjq4WUZMG"
      },
      "source": [
        "**Case 2**</br>\r\n",
        "I can not think this case anymore, and this is the brute force, and it certainly has a high time complexity. Just run in 8 test case of 12. And the reason is time complexity :D"
      ]
    },
    {
      "cell_type": "code",
      "metadata": {
        "id": "r_es3ovmUayA"
      },
      "source": [
        "def getNumberOfOptions(priceOfJeans, priceOfShoes, priceOfSkirts, priceOfTops, budgeted):\r\n",
        "    # Write your code here\r\n",
        "    all_items = []\r\n",
        "    all_items.append(priceOfJeans)\r\n",
        "    all_items.append(priceOfShoes)\r\n",
        "    all_items.append(priceOfSkirts)\r\n",
        "    all_items.append(priceOfTops)\r\n",
        "\r\n",
        "    drop_tmp = 0\r\n",
        "    if len(priceOfJeans) == 1:\r\n",
        "      budgeted -= priceOfJeans[0]\r\n",
        "      del all_items[0-drop_tmp]\r\n",
        "      drop_tmp +=1\r\n",
        "    if len(priceOfShoes) == 1:\r\n",
        "      budgeted -= priceOfShoes[0]\r\n",
        "      del all_items[1-drop_tmp]\r\n",
        "      drop_tmp +=1\r\n",
        "    if len(priceOfSkirts) == 1:\r\n",
        "      budgeted -= priceOfSkirts[0]\r\n",
        "      del all_items[2-drop_tmp]\r\n",
        "      drop_tmp +=1\r\n",
        "    if len(priceOfTops) == 1:\r\n",
        "      budgeted -= priceOfTops[0]\r\n",
        "      del all_items[3-drop_tmp]\r\n",
        "      drop_tmp +=1\r\n",
        "  \r\n",
        "    count = 0\r\n",
        "    if len(all_items) == 0:\r\n",
        "        if priceOfJeans[0]+priceOfShoes[0]+priceOfSkirts[0]+priceOfTops[0] <= budgeted:\r\n",
        "            count+=1\r\n",
        "    elif len(all_items) == 1:\r\n",
        "        for first in all_items[0]:\r\n",
        "            if first <= budgeted:\r\n",
        "                count +=1\r\n",
        "    elif len(all_items) == 2:\r\n",
        "        for first in all_items[0]:\r\n",
        "            for second in all_items[1]:\r\n",
        "                if first + second <= budgeted:\r\n",
        "                    count +=1\r\n",
        "    elif len(all_items) == 3:\r\n",
        "        for first in all_items[0]:\r\n",
        "            for second in all_items[1]:\r\n",
        "                for third in all_items[2]:\r\n",
        "                    if first + second + third <= budgeted:\r\n",
        "                        count +=1\r\n",
        "    else:\r\n",
        "        for first in all_items[0]:\r\n",
        "            for second in all_items[1]:\r\n",
        "                for third in all_items[2]:\r\n",
        "                    for fourth in all_items[3]:\r\n",
        "                        if first + second + third+ fourth <= budgeted:\r\n",
        "                            count +=1\r\n",
        "    return count"
      ],
      "execution_count": 13,
      "outputs": []
    },
    {
      "cell_type": "markdown",
      "metadata": {
        "id": "fEePpohMUbv0"
      },
      "source": [
        "**Case 3**\r\n",
        "<br>\r\n",
        "I still don't know about time series prediction"
      ]
    },
    {
      "cell_type": "code",
      "metadata": {
        "id": "miCVg3d9UlJr"
      },
      "source": [
        ""
      ],
      "execution_count": null,
      "outputs": []
    }
  ]
}