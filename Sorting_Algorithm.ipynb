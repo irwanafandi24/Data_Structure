{
  "nbformat": 4,
  "nbformat_minor": 0,
  "metadata": {
    "colab": {
      "name": "Sorting Algorithm.ipynb",
      "provenance": [],
      "collapsed_sections": [
        "_3Cg7907QGPQ"
      ]
    },
    "kernelspec": {
      "name": "python3",
      "display_name": "Python 3"
    }
  },
  "cells": [
    {
      "cell_type": "markdown",
      "metadata": {
        "id": "ZprVaZbE3xw6"
      },
      "source": [
        "#**Bubble Sort**"
      ]
    },
    {
      "cell_type": "code",
      "metadata": {
        "id": "jB30h7zy3goI"
      },
      "source": [
        "#the number of itteration is len(arr_a)-1, because i start from 0\r\n",
        "def bubble_sort(arr_a):\r\n",
        "  for i in range(len(arr_a)-1):\r\n",
        "    for j in range(len(arr_a)-1-i):\r\n",
        "      if arr_a[j]>arr_a[j+1]:\r\n",
        "        tmp = arr_a[j]\r\n",
        "        arr_a[j] = arr_a[j+1]\r\n",
        "        arr_a[j+1] = tmp\r\n",
        "  return arr_a"
      ],
      "execution_count": 1,
      "outputs": []
    },
    {
      "cell_type": "code",
      "metadata": {
        "colab": {
          "base_uri": "https://localhost:8080/"
        },
        "id": "J3kNttkC7BZY",
        "outputId": "70514a81-da11-4399-daec-bc9e1f0ad0a1"
      },
      "source": [
        "a = [8,5,1,9,3,2,6,4,7,10]\r\n",
        "print(bubble_sort(a))"
      ],
      "execution_count": 2,
      "outputs": [
        {
          "output_type": "stream",
          "text": [
            "[1, 2, 3, 4, 5, 6, 7, 8, 9, 10]\n"
          ],
          "name": "stdout"
        }
      ]
    },
    {
      "cell_type": "markdown",
      "metadata": {
        "id": "Yb3Qrgxg-f9u"
      },
      "source": [
        "#**Selection Sort**"
      ]
    },
    {
      "cell_type": "code",
      "metadata": {
        "id": "YZKycqFF-BGK"
      },
      "source": [
        "\"\"\"\r\n",
        "set the data into first element, \r\n",
        "then find the smallest data from first elm + 1 to end the array\r\n",
        "if you find it, swap the value\r\n",
        "from the first elm ==> first elm + 1, etc \r\n",
        "\"\"\"\r\n",
        "def selection_sort(arr_a):\r\n",
        "  for i in range(len(arr_a)-1):\r\n",
        "    index = i\r\n",
        "    for j in range (i+1, len(arr_a)):\r\n",
        "      if arr_a[j]<arr_a[index]:\r\n",
        "        index = j\r\n",
        "    if i != index:\r\n",
        "      tmp = arr_a[i]\r\n",
        "      arr_a[i] = arr_a[index]\r\n",
        "      arr_a[index] = tmp\r\n",
        "  return arr_a"
      ],
      "execution_count": 3,
      "outputs": []
    },
    {
      "cell_type": "code",
      "metadata": {
        "colab": {
          "base_uri": "https://localhost:8080/"
        },
        "id": "CAxgd7_YClXB",
        "outputId": "8abec74c-124c-4d5c-c973-77b7343e391c"
      },
      "source": [
        "a = [8,5,1,9,3,2,6,4,7,10]\r\n",
        "print(selection_sort(a))"
      ],
      "execution_count": 4,
      "outputs": [
        {
          "output_type": "stream",
          "text": [
            "[1, 2, 3, 4, 5, 6, 7, 8, 9, 10]\n"
          ],
          "name": "stdout"
        }
      ]
    },
    {
      "cell_type": "markdown",
      "metadata": {
        "id": "CT6vfF9vHili"
      },
      "source": [
        "#**Insertion Sort**\r\n",
        "better than bubble or insertion sort"
      ]
    },
    {
      "cell_type": "code",
      "metadata": {
        "id": "j-tqeBXsCqpq"
      },
      "source": [
        "#compare with previous, and decrement\r\n",
        "def insertion_sort(arr_a):\r\n",
        "  for i in range(len(arr_a)):\r\n",
        "    j = i\r\n",
        "    while j>0 and arr_a[j-1] > arr_a[j]:\r\n",
        "      tmp = arr_a[j-1]\r\n",
        "      arr_a[j-1] = arr_a[j]\r\n",
        "      arr_a[j]= tmp\r\n",
        "      j = j-1\r\n",
        "  return arr_a"
      ],
      "execution_count": 5,
      "outputs": []
    },
    {
      "cell_type": "code",
      "metadata": {
        "colab": {
          "base_uri": "https://localhost:8080/"
        },
        "id": "_6CjBAqFKgVa",
        "outputId": "860240f1-a672-4fa1-b445-d2d215c8a853"
      },
      "source": [
        "a = [8,5,1,9,3,2,6,4,7,10]\r\n",
        "print(insertion_sort(a))"
      ],
      "execution_count": 6,
      "outputs": [
        {
          "output_type": "stream",
          "text": [
            "[1, 2, 3, 4, 5, 6, 7, 8, 9, 10]\n"
          ],
          "name": "stdout"
        }
      ]
    },
    {
      "cell_type": "markdown",
      "metadata": {
        "id": "_3Cg7907QGPQ"
      },
      "source": [
        "#**Quick Sort**"
      ]
    },
    {
      "cell_type": "markdown",
      "metadata": {
        "id": "et1RUVa46Fa1"
      },
      "source": [
        "###**Quick Sort V1**\r\n",
        "Optimum"
      ]
    },
    {
      "cell_type": "code",
      "metadata": {
        "id": "xTUx1rXFNwyp"
      },
      "source": [
        "def quick_sort(arr_a, low, high):\r\n",
        "  if low >= high:\r\n",
        "    return\r\n",
        "  \r\n",
        "  pivot_index = partition(arr_a, low, high)\r\n",
        "  quick_sort(arr_a, low, pivot_index-1)#left_side\r\n",
        "  quick_sort(arr_a, pivot_index+1, high)#right_side \r\n",
        "  return arr_a"
      ],
      "execution_count": 7,
      "outputs": []
    },
    {
      "cell_type": "code",
      "metadata": {
        "id": "mp68WyTSQtVE"
      },
      "source": [
        "def partition(arr_a, low, high):\r\n",
        "  pivot_index = (low+high)//2 #get the middle index\r\n",
        "  swap(arr_a, pivot_index, high)\r\n",
        "\r\n",
        "  i = low\r\n",
        "\r\n",
        "  for j in range(low, high, 1):\r\n",
        "    if arr_a[j] <= arr_a[high]:\r\n",
        "      swap(arr_a, i, j)\r\n",
        "      i+=1\r\n",
        "    \r\n",
        "  swap(arr_a, i, high)\r\n",
        "  return i\r\n",
        "\r\n",
        "def swap(arr_a, i, j):\r\n",
        "  tmp = arr_a[i]\r\n",
        "  arr_a[i] = arr_a[j]\r\n",
        "  arr_a[j] = tmp"
      ],
      "execution_count": 8,
      "outputs": []
    },
    {
      "cell_type": "code",
      "metadata": {
        "colab": {
          "base_uri": "https://localhost:8080/"
        },
        "id": "kQ6QRNNhRCnr",
        "outputId": "0cb33127-d22f-4a67-9660-5f7db389ff63"
      },
      "source": [
        "a = [1,2,10,9,3,4,8,7,5,6]\r\n",
        "print(quick_sort(a, 0, len(a)-1))"
      ],
      "execution_count": 9,
      "outputs": [
        {
          "output_type": "stream",
          "text": [
            "[1, 2, 3, 4, 5, 6, 7, 8, 9, 10]\n"
          ],
          "name": "stdout"
        }
      ]
    },
    {
      "cell_type": "markdown",
      "metadata": {
        "id": "bLWBBqsmuFxp"
      },
      "source": [
        "###**Quick Sort V2**\r\n",
        "Not really optimum"
      ]
    },
    {
      "cell_type": "code",
      "metadata": {
        "id": "bfnqHYU0uFay"
      },
      "source": [
        "def qc_sort(arr):\r\n",
        "  length = len(arr)\r\n",
        "  if length <= 1:\r\n",
        "    return arr\r\n",
        "  else:\r\n",
        "    pivot = arr.pop()\r\n",
        "  \r\n",
        "  items_lower, items_greater = [], []\r\n",
        "\r\n",
        "  for item in arr:\r\n",
        "    if item < pivot:\r\n",
        "      items_lower.append(item)\r\n",
        "    else:\r\n",
        "      items_greater.append(item)\r\n",
        "  \r\n",
        "  return  qc_sort(items_lower) + [pivot] + qc_sort(items_greater)"
      ],
      "execution_count": 10,
      "outputs": []
    },
    {
      "cell_type": "code",
      "metadata": {
        "colab": {
          "base_uri": "https://localhost:8080/"
        },
        "id": "Ww8AaLbJvqTb",
        "outputId": "4663235c-4f71-49e2-cf0e-e0e160882404"
      },
      "source": [
        "a = [1,2,10,9,3,4,8,7,5,6]\r\n",
        "print(qc_sort(a))"
      ],
      "execution_count": 11,
      "outputs": [
        {
          "output_type": "stream",
          "text": [
            "[1, 2, 3, 4, 5, 6, 7, 8, 9, 10]\n"
          ],
          "name": "stdout"
        }
      ]
    },
    {
      "cell_type": "markdown",
      "metadata": {
        "id": "wNz3YsCO59dF"
      },
      "source": [
        "#**Merge Sort**"
      ]
    },
    {
      "cell_type": "markdown",
      "metadata": {
        "id": "E7zZQ9cwwsIR"
      },
      "source": [
        "###**Merge Sort V1**\r\n",
        "It does not optimum in space coplexity, because we always make a new array"
      ]
    },
    {
      "cell_type": "code",
      "metadata": {
        "id": "AS2HmrHTz7mA"
      },
      "source": [
        "def merge_two_sorted_arr(a, b):\r\n",
        "  sorted_list = []\r\n",
        "  len_a = len(a)\r\n",
        "  len_b = len(b)\r\n",
        "  i = j = 0\r\n",
        "\r\n",
        "  while i < len_a and j < len_b:\r\n",
        "    if a[i]<=b[j]:\r\n",
        "      sorted_list.append(a[i])\r\n",
        "      i+=1\r\n",
        "    else:\r\n",
        "      sorted_list.append(b[j])\r\n",
        "      j+=1\r\n",
        "  \r\n",
        "  #the rest of the array\r\n",
        "  if i <= len_a:\r\n",
        "    sorted_list += a[i:len(a)]\r\n",
        "  if j <= len_b: \r\n",
        "    sorted_list += b[j:len(b)]\r\n",
        "  return sorted_list"
      ],
      "execution_count": 12,
      "outputs": []
    },
    {
      "cell_type": "code",
      "metadata": {
        "colab": {
          "base_uri": "https://localhost:8080/"
        },
        "id": "AWmOISXQ02rK",
        "outputId": "bf1c465d-e5c9-4a80-bb2e-720416602da1"
      },
      "source": [
        "a = [5,8,12,56]\r\n",
        "b = [7,9,45,51,70, 100]\r\n",
        "merge_two_sorted_arr(a,b)"
      ],
      "execution_count": 13,
      "outputs": [
        {
          "output_type": "execute_result",
          "data": {
            "text/plain": [
              "[5, 7, 8, 9, 12, 45, 51, 56, 70, 100]"
            ]
          },
          "metadata": {
            "tags": []
          },
          "execution_count": 13
        }
      ]
    },
    {
      "cell_type": "code",
      "metadata": {
        "id": "i4gwn3Yowp9f"
      },
      "source": [
        "def merge_sort(arr):\r\n",
        "  if len(arr)<=1:\r\n",
        "    return arr\r\n",
        "  \r\n",
        "  mid = len(arr)//2\r\n",
        "  left_arr = arr[:mid]\r\n",
        "  right_arr = arr [mid:]\r\n",
        "\r\n",
        "  left_arr = merge_sort(left_arr)\r\n",
        "  right_arr = merge_sort(right_arr)\r\n",
        "\r\n",
        "  return merge_two_sorted_arr(left_arr, right_arr)"
      ],
      "execution_count": 14,
      "outputs": []
    },
    {
      "cell_type": "code",
      "metadata": {
        "colab": {
          "base_uri": "https://localhost:8080/"
        },
        "id": "twotGSCH5IH3",
        "outputId": "3fc4ab4e-74bf-40dd-b339-8d134344418e"
      },
      "source": [
        "arr = [10, 3, 15, 7, 8, 23, 98, 29]\r\n",
        "merge_sort(arr)"
      ],
      "execution_count": 15,
      "outputs": [
        {
          "output_type": "execute_result",
          "data": {
            "text/plain": [
              "[3, 7, 8, 10, 15, 23, 29, 98]"
            ]
          },
          "metadata": {
            "tags": []
          },
          "execution_count": 15
        }
      ]
    },
    {
      "cell_type": "markdown",
      "metadata": {
        "id": "m3cwszH06YzI"
      },
      "source": [
        "###**Merge Sort V2**"
      ]
    },
    {
      "cell_type": "code",
      "metadata": {
        "id": "QIpCwH0A6gEP"
      },
      "source": [
        "def merge_two_sorted_arr(a, b, arr):\r\n",
        "  len_a = len(a)\r\n",
        "  len_b = len(b)\r\n",
        "  i = j = k = 0\r\n",
        "\r\n",
        "  while i < len_a and j < len_b:\r\n",
        "    if a[i]<=b[j]:\r\n",
        "      arr[k] = a[i]\r\n",
        "      i+=1\r\n",
        "    else:\r\n",
        "      arr[k] = b[j]\r\n",
        "      j+=1\r\n",
        "    k+=1\r\n",
        "\r\n",
        "  #the rest of the array\r\n",
        "  while i < len_a:\r\n",
        "    arr[k] = a[i]\r\n",
        "    i+=1\r\n",
        "    k+=1\r\n",
        "  while j < len_b: \r\n",
        "    arr[k] = b[j]\r\n",
        "    j+=1\r\n",
        "    k+=1"
      ],
      "execution_count": 16,
      "outputs": []
    },
    {
      "cell_type": "code",
      "metadata": {
        "id": "vjzhGE-U6sNA"
      },
      "source": [
        "def merge_sort(arr):\r\n",
        "  if len(arr)<=1:\r\n",
        "    return\r\n",
        "  \r\n",
        "  mid = len(arr)//2\r\n",
        "  left_arr = arr[:mid]\r\n",
        "  right_arr = arr [mid:]\r\n",
        "\r\n",
        "  merge_sort(left_arr)\r\n",
        "  merge_sort(right_arr)\r\n",
        "\r\n",
        "  merge_two_sorted_arr(left_arr, right_arr, arr)\r\n",
        "  return "
      ],
      "execution_count": 17,
      "outputs": []
    },
    {
      "cell_type": "code",
      "metadata": {
        "colab": {
          "base_uri": "https://localhost:8080/"
        },
        "id": "LBJAESiT8PCg",
        "outputId": "7f068887-bd1c-49f0-df69-fb84272485e6"
      },
      "source": [
        "test_case = [\r\n",
        "             [10, 3, 15, 7, 8, 23, 98, 29],\r\n",
        "             [],\r\n",
        "             [3],\r\n",
        "             [9, 8, 7, 2],\r\n",
        "             [1, 2, 3, 4, 5]\r\n",
        "]\r\n",
        "\r\n",
        "for arr in test_case:\r\n",
        "  merge_sort(arr)\r\n",
        "  print(arr)"
      ],
      "execution_count": 18,
      "outputs": [
        {
          "output_type": "stream",
          "text": [
            "[3, 7, 8, 10, 15, 23, 29, 98]\n",
            "[]\n",
            "[3]\n",
            "[2, 7, 8, 9]\n",
            "[1, 2, 3, 4, 5]\n"
          ],
          "name": "stdout"
        }
      ]
    },
    {
      "cell_type": "code",
      "metadata": {
        "colab": {
          "base_uri": "https://localhost:8080/"
        },
        "id": "U0LAMlLW9R6R",
        "outputId": "173731f6-e5e7-44e2-fc3b-87264a7b854a"
      },
      "source": [
        "a =[10, 3, 15, 7, 8, 23, 98, 29]\r\n",
        "merge_sort(a)\r\n",
        "a"
      ],
      "execution_count": 19,
      "outputs": [
        {
          "output_type": "execute_result",
          "data": {
            "text/plain": [
              "[3, 7, 8, 10, 15, 23, 29, 98]"
            ]
          },
          "metadata": {
            "tags": []
          },
          "execution_count": 19
        }
      ]
    }
  ]
}