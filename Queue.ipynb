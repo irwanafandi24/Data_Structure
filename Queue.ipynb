{
  "nbformat": 4,
  "nbformat_minor": 0,
  "metadata": {
    "colab": {
      "name": "Queue.ipynb",
      "provenance": [],
      "collapsed_sections": []
    },
    "kernelspec": {
      "name": "python3",
      "display_name": "Python 3"
    }
  },
  "cells": [
    {
      "cell_type": "markdown",
      "metadata": {
        "id": "uJHnmb5xfutR"
      },
      "source": [
        "#**Queue**\r\n",
        "Fist in First Out (FIFO Structure)\r\n",
        "<br>Basic Operation:\r\n",
        "- Enqueue : add to the queue\r\n",
        "- Dequeue : remove the first queue\r\n",
        "\r\n",
        "<br>Reference:\r\n",
        "-  https://www.youtube.com/watch?v=ZMXQKe01ciE&list=PL1SWSsc5Gso_Cw5Pj2_IAAGuyio0O1x3o&index=18&ab_channel=DForDeveloper"
      ]
    },
    {
      "cell_type": "code",
      "metadata": {
        "id": "f2lyUuRbfrAb"
      },
      "source": [
        "class Queue:\r\n",
        "  def __init__(self):\r\n",
        "    self.queue = []\r\n",
        "  \r\n",
        "  def isEmpty(self):\r\n",
        "    return self.queue == []\r\n",
        "\r\n",
        "  def enqueue(self, data):\r\n",
        "    self.queue.append(data)\r\n",
        "\r\n",
        "  def dequeue(self):\r\n",
        "    if self.isEmpty():\r\n",
        "      return \"Queue is Empty\"\r\n",
        "    data = self.queue[0]\r\n",
        "    del self.queue[0]\r\n",
        "    return data\r\n",
        "\r\n",
        "  def peek(self):\r\n",
        "    if self.isEmpty():\r\n",
        "      return \"Queue is Empty\"\r\n",
        "    return self.queue[0]\r\n",
        "  \r\n",
        "  def queue_size(self):\r\n",
        "    return len(self.queue)\r\n",
        "\r\n",
        "  def print_queue(self):\r\n",
        "    result = \"All Queue: \"\r\n",
        "    for i in self.queue:\r\n",
        "      result += str(i)+ \" --> \"\r\n",
        "    return result"
      ],
      "execution_count": 19,
      "outputs": []
    },
    {
      "cell_type": "code",
      "metadata": {
        "colab": {
          "base_uri": "https://localhost:8080/"
        },
        "id": "uvBST7q-vwaZ",
        "outputId": "b54954eb-0faf-4b18-c655-1a92cd54e35e"
      },
      "source": [
        "queue_row = Queue()\r\n",
        "queue_row.enqueue(10)\r\n",
        "queue_row.enqueue(15)\r\n",
        "queue_row.enqueue(20)\r\n",
        "queue_row.enqueue(30)\r\n",
        "print(\"Total Queue: \", queue_row.queue_size())\r\n",
        "print(queue_row.print_queue())\r\n",
        "print(\"Dequeue\", queue_row.dequeue())\r\n",
        "print(\"Dequeue\", queue_row.dequeue())\r\n",
        "print(\"Peak: \",queue_row.peek())\r\n",
        "print(\"Dequeue\", queue_row.dequeue())\r\n",
        "print(\"Dequeue\", queue_row.dequeue())\r\n",
        "print(\"Total Queue: \", queue_row.queue_size())\r\n",
        "print(\"Peak: \",queue_row.peek())\r\n",
        "print(\"Null Queue? \", queue_row.isEmpty())"
      ],
      "execution_count": 21,
      "outputs": [
        {
          "output_type": "stream",
          "text": [
            "Total Queue:  4\n",
            "All Queue: 10 --> 15 --> 20 --> 30 --> \n",
            "Dequeue 10\n",
            "Dequeue 15\n",
            "Peak:  20\n",
            "Dequeue 20\n",
            "Dequeue 30\n",
            "Total Queue:  0\n",
            "Peak:  Queue is Empty\n",
            "Null Queue?  True\n"
          ],
          "name": "stdout"
        }
      ]
    },
    {
      "cell_type": "code",
      "metadata": {
        "id": "qGf2zZrIxJZA"
      },
      "source": [
        ""
      ],
      "execution_count": null,
      "outputs": []
    }
  ]
}