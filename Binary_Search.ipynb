{
  "nbformat": 4,
  "nbformat_minor": 0,
  "metadata": {
    "colab": {
      "name": "Binary Search.ipynb",
      "provenance": []
    },
    "kernelspec": {
      "name": "python3",
      "display_name": "Python 3"
    }
  },
  "cells": [
    {
      "cell_type": "markdown",
      "metadata": {
        "id": "tMsUXedCH8c9"
      },
      "source": [
        "#**Binary Search**\r\n",
        "It simple binary search, not binary search tree"
      ]
    },
    {
      "cell_type": "code",
      "metadata": {
        "id": "2wHPrM8TDQ9O"
      },
      "source": [
        "def binary_search(arr, k):\r\n",
        "  bot, top = 0, len(arr)-1\r\n",
        "  while bot <= top:\r\n",
        "    mid = bot + (top-bot)//2\r\n",
        "    if arr[mid] == k:\r\n",
        "      return True\r\n",
        "    elif arr[mid] > k :\r\n",
        "      top = mid-1\r\n",
        "    elif arr[mid] < k :\r\n",
        "      bot = mid+1\r\n",
        "  return False "
      ],
      "execution_count": 1,
      "outputs": []
    },
    {
      "cell_type": "code",
      "metadata": {
        "colab": {
          "base_uri": "https://localhost:8080/"
        },
        "id": "RHtwneiJIFPV",
        "outputId": "16a89049-06c1-43b5-9236-60b72d1f88bd"
      },
      "source": [
        "a = [1,2,3,4,5,6,7,8,9,10]\r\n",
        "binary_search(a, 6)"
      ],
      "execution_count": 2,
      "outputs": [
        {
          "output_type": "execute_result",
          "data": {
            "text/plain": [
              "True"
            ]
          },
          "metadata": {
            "tags": []
          },
          "execution_count": 2
        }
      ]
    },
    {
      "cell_type": "code",
      "metadata": {
        "colab": {
          "base_uri": "https://localhost:8080/"
        },
        "id": "P2BRuItpINhd",
        "outputId": "deba4d97-b3c1-4c6a-e29c-ac80a17c552f"
      },
      "source": [
        "binary_search(a, 10)"
      ],
      "execution_count": 3,
      "outputs": [
        {
          "output_type": "execute_result",
          "data": {
            "text/plain": [
              "True"
            ]
          },
          "metadata": {
            "tags": []
          },
          "execution_count": 3
        }
      ]
    }
  ]
}